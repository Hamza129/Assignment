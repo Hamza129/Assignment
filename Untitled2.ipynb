{
  "metadata": {
    "language_info": {
      "codemirror_mode": {
        "name": "javascript"
      },
      "file_extension": ".js",
      "mimetype": "text/javascript",
      "name": "javascript",
      "nbconvert_exporter": "javascript",
      "pygments_lexer": "javascript",
      "version": "es2017"
    },
    "kernelspec": {
      "name": "javascript",
      "display_name": "JavaScript",
      "language": "javascript"
    }
  },
  "nbformat_minor": 4,
  "nbformat": 4,
  "cells": [
    {
      "cell_type": "markdown",
      "source": "# My Jupyter Notebook on IBM Watson Studio",
      "metadata": {}
    },
    {
      "cell_type": "markdown",
      "source": "**Hamza Shahid- Student**",
      "metadata": {}
    },
    {
      "cell_type": "markdown",
      "source": "*Im interested in data science because i love to work with data and because it helps businesses to find new opportunities*",
      "metadata": {}
    },
    {
      "cell_type": "markdown",
      "source": "### the code in the next cell is supposed to add the two numbers ###",
      "metadata": {}
    },
    {
      "cell_type": "code",
      "source": "1+3",
      "metadata": {
        "trusted": true
      },
      "execution_count": 2,
      "outputs": [
        {
          "execution_count": 2,
          "output_type": "execute_result",
          "data": {
            "text/plain": 4
          },
          "metadata": {}
        }
      ]
    },
    {
      "cell_type": "markdown",
      "source": "- bullet point \n1. numbered list\n2. numbered list\n\n| name | occupation | Age |\n| --- | --- | --- |\n",
      "metadata": {}
    },
    {
      "cell_type": "code",
      "source": "",
      "metadata": {},
      "execution_count": null,
      "outputs": []
    }
  ]
}